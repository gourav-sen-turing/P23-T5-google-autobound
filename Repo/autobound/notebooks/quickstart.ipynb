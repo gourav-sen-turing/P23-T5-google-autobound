{
  "cells": [
    {
      "cell_type": "markdown",
      "metadata": {
        "id": "zCoERfI5oGAG"
      },
      "source": [
        "# AutoBound Quickstart\n",
        "\n",
        "This notebooks shows how to use AutoBound to compute upper and lower bounds on a function.\n",
        "\n",
        "[![Open In Colab](https://colab.research.google.com/assets/colab-badge.svg)](https://colab.research.google.com/github/google/autobound/blob/main/autobound/notebooks/quickstart.ipynb)"
      ]
    },
    {
      "cell_type": "markdown",
      "metadata": {
        "id": "a6sTOO8iiSGF"
      },
      "source": [
        "## Install autobound"
      ]
    },
    {
      "cell_type": "code",
      "execution_count": null,
      "metadata": {
        "id": "bBp26rjvhJSS"
      },
      "outputs": [],
      "source": [
        "%pip install autobound"
      ]
    },
    {
      "cell_type": "markdown",
      "metadata": {
        "id": "BzRL1UNXiYHf"
      },
      "source": [
        "## Compute upper and lower bounds on a function"
      ]
    },
    {
      "cell_type": "code",
      "execution_count": null,
      "metadata": {
        "executionInfo": {
          "elapsed": 64,
          "status": "ok",
          "timestamp": 1680545187208,
          "user": {
            "displayName": "",
            "userId": ""
          },
          "user_tz": 420
        },
        "id": "NvTd02nWgXMG",
        "outputId": "649f6cd0-7391-4d3f-ea8e-4cada1f34dd0"
      },
      "outputs": [
        {
          "data": {
            "text/plain": [
              "(Array(0.47253323, dtype=float32, weak_type=True),\n",
              " Array(-4.8324013, dtype=float32, weak_type=True),\n",
              " (Array(-5.5549355, dtype=float32, weak_type=True),\n",
              "  Array(28.287888, dtype=float32, weak_type=True)))"
            ]
          },
          "execution_count": null,
          "metadata": {},
          "output_type": "execute_result"
        }
      ],
      "source": [
        "import autobound.jax as ab\n",
        "import jax.numpy as jnp\n",
        "\n",
        "f = lambda x: 1.5*jnp.exp(3*x) - 25*x**2\n",
        "x0 = .5\n",
        "trust_region = (0, 1)\n",
        "# Compute quadratic upper and lower bounds on f.\n",
        "bounds = ab.taylor_bounds(f, max_degree=2)(x0, trust_region)\n",
        "bounds.coefficients  # == (f(x0), f'(x0), \u003can interval\u003e)"
      ]
    },
    {
      "cell_type": "markdown",
      "metadata": {
        "id": "dqFCvmLoiHFb"
      },
      "source": [
        "## Plot the bounds using matplotlib"
      ]
    },
    {
      "cell_type": "code",
      "execution_count": 5,
      "metadata": {
        "colab": {
          "height": 279
        },
        "executionInfo": {
          "elapsed": 827,
          "status": "ok",
          "timestamp": 1680545190470,
          "user": {
            "displayName": "",
            "userId": ""
          },
          "user_tz": 420
        },
        "id": "dSLSxOQWggs7",
        "outputId": "911acb58-ba90-4863-ecd8-3a482be836f7"
      },
      "outputs": [
        {
          "data": {
            "image/png": "[encoded data removed]",
            "text/plain": [
              "\u003cFigure size 600x400 with 1 Axes\u003e"
            ]
          },
          "metadata": {},
          "output_type": "display_data"
        }
      ],
      "source": [
        "from matplotlib import pyplot\n",
        "import numpy as np\n",
        "\n",
        "\n",
        "def plot_bounds(bounds, num_points=101):\n",
        "  a, b = bounds.x_trust_region\n",
        "  xs = np.linspace(a, b, num_points)\n",
        "  pyplot.xlabel('x')\n",
        "  pyplot.plot(xs, [bounds.upper(x) for x in xs], 'b--', label='Upper bound')\n",
        "  pyplot.plot(xs, [bounds.f(x) for x in xs], 'k-', label='f(x)')\n",
        "  pyplot.plot([x0], [bounds.f(bounds.x0)], 'k.')\n",
        "  pyplot.plot(xs, [bounds.lower(x) for x in xs], 'r--', label='Lower bound')\n",
        "  pyplot.legend()\n",
        "  pyplot.show()\n",
        "\n",
        "\n",
        "plot_bounds(bounds)"
      ]
    }
  ],
  "metadata": {
    "colab": {
      "last_runtime": {
        "build_target": "",
        "kind": "local"
      },
      "provenance": [
        {
          "file_id": "13ZIpeuztOA70ECjYDzLOBRCNs0LM13w6",
          "timestamp": 1677798847207
        }
      ]
    },
    "kernelspec": {
      "display_name": "Python 3",
      "name": "python3"
    },
    "language_info": {
      "name": "python"
    }
  },
  "nbformat": 4,
  "nbformat_minor": 0
}
