{
  "cells": [
    {
      "cell_type": "markdown",
      "metadata": {
        "id": "F6xQ66b3Z7Sq"
      },
      "source": [
        "# Using AutoBound to compute \"safe\" learning rates\n",
        "\n",
        "This notebook shows how AutoBound can be used to compute learning rates that are guaranteed to monotonically reduce a loss function.  This application is discussed in more detail in Chapter 5 of [the AutoBound paper](https://arxiv.org/abs/2212.11429).\n",
        "\n",
        "[![Open In Colab](https://colab.research.google.com/assets/colab-badge.svg)](https://colab.research.google.com/github/google/autobound/blob/main/autobound/notebooks/safe_learning_rates.ipynb)"
      ]
    },
    {
      "cell_type": "markdown",
      "metadata": {
        "id": "4uLbe-rxaGBH"
      },
      "source": [
        "## Install autobound"
      ]
    },
    {
      "cell_type": "code",
      "execution_count": null,
      "metadata": {
        "id": "8im2BvtrZ1Ww"
      },
      "outputs": [],
      "source": [
        "%pip install autobound"
      ]
    },
    {
      "cell_type": "markdown",
      "metadata": {
        "id": "_VQKf2Hla8iJ"
      },
      "source": [
        "## Compute safe learning rates\n",
        "\n",
        "Given a loss function $f$ and an iterate $x_t$, we will compute a learning rate\n",
        "that is guaranteed to reduce the loss by\n",
        "1. Computing a quadratic upper bound on the function $h_t(\\eta) \\triangleq f(x_t - \\eta \\nabla f(x_t))$.  The quadratic upper bound will be valid over the interval $[0, \\bar \\eta]$, where $\\bar \\eta$ is a maximum learning rate.\n",
        "2. Minimizing the quadratic upper bound on $h_t$ to obtain a learning rate $\\eta_t$.\n",
        "\n",
        "This gives a learning rate $\\eta_t$ that is guaranteed to monotonically reduce the loss, because  $f(x_t - \\eta_t \\nabla f(x_t)) = h_t(\\eta_t) \\le h_t(0) = f(x_t)$.\n",
        "\n",
        "To do the first step, we define a helper function that upper bounds the loss as a function of the learning rate."
      ]
    },
    {
      "cell_type": "code",
      "execution_count": 1,
      "metadata": {
        "executionInfo": {
          "elapsed": 3701,
          "status": "ok",
          "timestamp": 1680628964220,
          "user": {
            "displayName": "",
            "userId": ""
          },
          "user_tz": 420
        },
        "id": "0RGtcfhby1Ag"
      },
      "outputs": [],
      "source": [
        "import autobound.jax as ab\n",
        "\n",
        "\n",
        "def bound_loss(x, update_dir, max_learning_rate):\n",
        "  \"\"\"Upper bound the loss as a function of the learning rate.\"\"\"\n",
        "  def next_loss(learning_rate):\n",
        "    next_x = jax.tree_util.tree_map(lambda w, v: w + learning_rate*v, x,\n",
        "                                    update_dir)\n",
        "    return loss(next_x)\n",
        "\n",
        "  trust_region = (0., max_learning_rate)\n",
        "  return ab.taylor_bounds(next_loss, 2)(0., trust_region)"
      ]
    },
    {
      "cell_type": "markdown",
      "metadata": {
        "id": "Ujrf0KG3ziWF"
      },
      "source": [
        "Let's test this helper function by upper bounding a one-dimensional loss and plotting the results."
      ]
    },
    {
      "cell_type": "code",
      "execution_count": 2,
      "metadata": {
        "colab": {
          "height": 279
        },
        "executionInfo": {
          "elapsed": 1036,
          "status": "ok",
          "timestamp": 1680628969656,
          "user": {
            "displayName": "",
            "userId": ""
          },
          "user_tz": 420
        },
        "id": "g5-rL3lTz1Gi",
        "outputId": "1974c127-5152-48b4-b26a-8b29eeeb2363"
      },
      "outputs": [
        {
          "data": {
            "image/png": "[encoded data removed]",
            "text/plain": [
              "\u003cFigure size 600x400 with 1 Axes\u003e"
            ]
          },
          "metadata": {},
          "output_type": "display_data"
        }
      ],
      "source": [
        "import jax\n",
        "from matplotlib import pyplot\n",
        "import numpy as np\n",
        "\n",
        "loss = lambda x: (x-3)**4  # We could use a more complex loss here.\n",
        "x0 = 0.\n",
        "update_dir = -jax.grad(loss)(x0)\n",
        "max_learning_rate = .02\n",
        "\n",
        "next_loss = jax.jit(lambda eta: loss(x0 + eta*update_dir))\n",
        "\n",
        "bound = bound_loss(x0, update_dir, max_learning_rate)\n",
        "etas = np.linspace(0, max_learning_rate, 101)\n",
        "pyplot.plot(etas, [bound.upper(eta) for eta in etas], 'r',\n",
        "            label='Quadratic upper bound')\n",
        "pyplot.plot(etas, [next_loss(eta) for eta in etas], 'k',\n",
        "            label='Loss')\n",
        "pyplot.xlabel('Learning rate')\n",
        "pyplot.legend()\n",
        "pyplot.show()\n"
      ]
    },
    {
      "cell_type": "markdown",
      "metadata": {
        "id": "cTq-g4F_zINp"
      },
      "source": [
        "To minimize the quadratic upper bound, we define a helper function."
      ]
    },
    {
      "cell_type": "code",
      "execution_count": 3,
      "metadata": {
        "executionInfo": {
          "elapsed": 112,
          "status": "ok",
          "timestamp": 1680628972776,
          "user": {
            "displayName": "",
            "userId": ""
          },
          "user_tz": 420
        },
        "id": "-Y5bG4Ued-kg"
      },
      "outputs": [],
      "source": [
        "import jax.numpy as jnp\n",
        "\n",
        "\n",
        "def minimize_1d_quadratic(c1, c2, trust_region):\n",
        "  \"\"\"Minimizes c1*x + c2*x**2 over trust_region.\"\"\"\n",
        "  a, b = trust_region\n",
        "  a, b, c1, c2 = [jnp.asarray(x) for x in [a, b, c1, c2]]\n",
        "  # If c2 \u003e 0, we set the derivative to zero to get -c1/(2*c2), then project\n",
        "  # this into the trust_region to get the minimizer.\n",
        "  project = lambda x: jnp.minimum(b, jnp.maximum(a, x))\n",
        "  c2_pos_solution = project(jnp.divide(-c1, 2*c2))\n",
        "  # If c2 \u003c 0, the minimizer is one of the two endpoints.\n",
        "  q = lambda x: c1*x + c2*x**2\n",
        "  c2_neg_solution = jnp.where(q(a) \u003c q(b), a, b)\n",
        "  # If c2 == 0, the minimizer depends on the sign of c1.\n",
        "  c2_zero_solution = (jnp.equal(c1, 0.) * project(0.) +\n",
        "                      jnp.greater(c1, 0.) * a + jnp.less(c1, 0.) * b)\n",
        "  c2_nonzero_solution = jnp.where(c2 \u003e 0., c2_pos_solution, c2_neg_solution)\n",
        "  return jnp.where(c2 == 0., c2_zero_solution, c2_nonzero_solution)\n",
        "\n",
        "\n",
        "assert float(minimize_1d_quadratic(-1., 2., (0., 1.))) == .25"
      ]
    },
    {
      "cell_type": "markdown",
      "metadata": {
        "id": "HadGIugjjWYf"
      },
      "source": [
        "Using this helper function, we can create a function that computes a safe learning rate for a given loss."
      ]
    },
    {
      "cell_type": "code",
      "execution_count": 4,
      "metadata": {
        "executionInfo": {
          "elapsed": 68,
          "status": "ok",
          "timestamp": 1680628975924,
          "user": {
            "displayName": "",
            "userId": ""
          },
          "user_tz": 420
        },
        "id": "Ha2GeFJxjbJr"
      },
      "outputs": [],
      "source": [
        "import jax\n",
        "\n",
        "\n",
        "def safe_learning_rate(x, update_dir, max_learning_rate):\n",
        "  bounds = bound_loss(x, update_dir, max_learning_rate)\n",
        "  if len(bounds.coefficients) \u003c 3:\n",
        "    raise NotImplementedError()  # the loss is linear \n",
        "  c1 = bounds.coefficients[1]\n",
        "  c2 = bounds.final_interval()[1]\n",
        "  trust_region = (0., max_learning_rate)\n",
        "  return minimize_1d_quadratic(c1, c2, trust_region)\n",
        "\n",
        "\n",
        "# If the function is a 1-d quadratic, the safe learning rate should take us\n",
        "# to the global minimum in one step.\n",
        "loss = lambda x: (x-1)**2\n",
        "x0 = 0.\n",
        "update_dir = -jax.grad(loss)(x0)\n",
        "safe_eta = safe_learning_rate(x0, update_dir, 1e12)\n",
        "assert float(loss(x0 + safe_eta*update_dir)) == 0."
      ]
    },
    {
      "cell_type": "markdown",
      "metadata": {
        "id": "_Dhc2XSSo4UW"
      },
      "source": [
        "Let's examine how the safe learning rate changes as a function of the maximum learning rate."
      ]
    },
    {
      "cell_type": "code",
      "execution_count": 5,
      "metadata": {
        "colab": {
          "height": 287
        },
        "executionInfo": {
          "elapsed": 584,
          "status": "ok",
          "timestamp": 1680628981021,
          "user": {
            "displayName": "",
            "userId": ""
          },
          "user_tz": 420
        },
        "id": "ZbERpNbsrSU_",
        "outputId": "2a7681fd-f08a-4fae-9bc4-abd0579a02ad"
      },
      "outputs": [
        {
          "data": {
            "image/png": "[encoded data removed]",
            "text/plain": [
              "\u003cFigure size 600x400 with 1 Axes\u003e"
            ]
          },
          "metadata": {},
          "output_type": "display_data"
        }
      ],
      "source": [
        "from matplotlib import pyplot\n",
        "\n",
        "loss = lambda x: (x-3)**4\n",
        "x0 = 0.\n",
        "update_dir = -jax.grad(loss)(x0)\n",
        "\n",
        "safe_eta = jax.jit(\n",
        "    lambda max_rate: safe_learning_rate(x0, update_dir, max_rate))\n",
        "max_rates = [1.1**i for i in range(-90, 3)]\n",
        "\n",
        "pyplot.plot(max_rates, [safe_eta(r) for r in max_rates])\n",
        "pyplot.xlabel('Maximum learning rate $\\\\bar \\\\eta$')\n",
        "pyplot.xscale('log')\n",
        "pyplot.ylabel('Safe learning rate')\n",
        "pyplot.show()\n"
      ]
    },
    {
      "cell_type": "markdown",
      "metadata": {
        "id": "MyqfLjrRhQt3"
      },
      "source": [
        "As can be seen, if the maximum learning rate is too large or too small, we will end up computing a very conservative learning rate.  Thus, we would like to find a maximum learning rate that is in the right ballpark.\n",
        "\n",
        "The SafeRate optimizer defined  Chapter 5 of [the AutoBound paper](https://arxiv.org/abs/2212.11429) uses a simple doubling/halving rule to adapt the maximum learning rate over time.  We implement SafeRate below."
      ]
    },
    {
      "cell_type": "code",
      "execution_count": 6,
      "metadata": {
        "executionInfo": {
          "elapsed": 21,
          "status": "ok",
          "timestamp": 1680628985305,
          "user": {
            "displayName": "",
            "userId": ""
          },
          "user_tz": 420
        },
        "id": "1RReHtyna6lr"
      },
      "outputs": [],
      "source": [
        "\n",
        "def saferate_optimizer(loss, initial_max_eta: float = 1.):\n",
        "  def init_fun(x0):\n",
        "    return (x0, 0., initial_max_eta)\n",
        "\n",
        "  def update_state(state):\n",
        "    x, _, max_eta = state\n",
        "    jax.tree_util.tree_map(lambda v: -v, jax.grad(loss)(x))\n",
        "    safe_eta = safe_learning_rate(x, update_dir, max_eta)\n",
        "    next_x = jax.tree_util.tree_map(\n",
        "        lambda p, v: p + safe_eta*v, x, update_dir\n",
        "    )\n",
        "    next_max_eta = jnp.where(\n",
        "        # If safe_eta is NaN, we cut the learning rate in half.\n",
        "        jnp.logical_or(safe_eta \u003c max_eta / 2, safe_eta \u003e safe_eta),\n",
        "        max_eta / 2,\n",
        "        max_eta * 2\n",
        "    )\n",
        "    return (next_x, safe_eta, next_max_eta)\n",
        "\n",
        "  def get_params(state):\n",
        "    x, _, _ = state\n",
        "    return x\n",
        "\n",
        "  return init_fun, update_state, get_params"
      ]
    },
    {
      "cell_type": "markdown",
      "metadata": {
        "id": "540_8wekhnDB"
      },
      "source": [
        "Finally, let's try running the SafeRate optimizer."
      ]
    },
    {
      "cell_type": "code",
      "execution_count": 7,
      "metadata": {
        "colab": {
          "height": 747
        },
        "executionInfo": {
          "elapsed": 611,
          "status": "ok",
          "timestamp": 1680628989215,
          "user": {
            "displayName": "",
            "userId": ""
          },
          "user_tz": 420
        },
        "id": "iPN_lLrDht6m",
        "outputId": "0b3614eb-6c8b-4cf4-fc10-5ad7cc97053b"
      },
      "outputs": [
        {
          "name": "stdout",
          "output_type": "stream",
          "text": [
            "step = 0 loss = 81.0 learning_rate = 4.26694e-05\n",
            "step = 1 loss = 80.50344 learning_rate = 0.00016758488\n",
            "step = 2 loss = 78.5753 learning_rate = 0.0006248287\n",
            "step = 4 loss = 53.016552 learning_rate = 0.004076681\n",
            "step = 8 loss = 0.50487447 learning_rate = 0.002497403\n",
            "step = 16 loss = 8.26129e-06 learning_rate = 0.00015905696\n",
            "step = 32 loss = 2.0091494e-15 learning_rate = 6.286466e-07\n",
            "step = 64 loss = 3.2311743e-27 learning_rate = 7.1466083e-10\n",
            "\n"
          ]
        },
        {
          "data": {
            "image/png": "[encoded data removed]",
            "text/plain": [
              "\u003cFigure size 600x400 with 1 Axes\u003e"
            ]
          },
          "metadata": {},
          "output_type": "display_data"
        },
        {
          "name": "stdout",
          "output_type": "stream",
          "text": [
            "\n"
          ]
        },
        {
          "data": {
            "image/png": "[encoded data removed]",
            "text/plain": [
              "\u003cFigure size 600x400 with 1 Axes\u003e"
            ]
          },
          "metadata": {},
          "output_type": "display_data"
        }
      ],
      "source": [
        "from matplotlib import pyplot\n",
        "\n",
        "loss = lambda x: (x-3)**4\n",
        "loss_jit = jax.jit(loss)\n",
        "x0 = 0.\n",
        "\n",
        "init_fun, update_state, get_params = saferate_optimizer(loss)\n",
        "update_state = jax.jit(update_state)\n",
        "\n",
        "state = init_fun(x0)\n",
        "step_to_data = {}\n",
        "for step in range(100):\n",
        "  cur_loss = loss_jit(get_params(state))\n",
        "  max_rate = state[2]\n",
        "  state = update_state(state)\n",
        "  rate = state[1]\n",
        "  step_to_data[step] = (cur_loss, rate, max_rate)\n",
        "  if step \u0026 (step - 1) == 0:\n",
        "    print('step =', step, 'loss =', cur_loss, 'learning_rate =', rate)\n",
        "print()\n",
        "\n",
        "# Plot the loss as a function of step.\n",
        "steps = sorted(step_to_data.keys())\n",
        "pyplot.plot(steps, [step_to_data[step][0] for step in steps], 'k', marker='.')\n",
        "pyplot.xlabel('Step')\n",
        "pyplot.ylabel('Loss')\n",
        "pyplot.yscale('log')\n",
        "pyplot.title('Loss vs. step')\n",
        "pyplot.show()\n",
        "print()\n",
        "\n",
        "# Plot the learning rate as a function of step.\n",
        "pyplot.plot(steps, [step_to_data[step][1] for step in steps], 'r--', marker='.',\n",
        "            label='Learning rate $\\\\eta_t$')\n",
        "pyplot.plot(steps, [step_to_data[step][2] for step in steps], 'g--', marker='.',\n",
        "            label='Maximum learning rate $\\\\bar \\\\eta_t$')\n",
        "pyplot.xlabel('Step')\n",
        "pyplot.yscale('log')\n",
        "pyplot.ylabel('Learning rate')\n",
        "pyplot.title('Learning rate vs. step')\n",
        "pyplot.legend()\n",
        "pyplot.show()\n",
        "\n"
      ]
    }
  ],
  "metadata": {
    "colab": {
      "last_runtime": {
        "build_target": "",
        "kind": "local"
      },
      "provenance": [
        {
          "file_id": "1LLfztqUC6floItXHf9AikyvVZbQ8Aipx",
          "timestamp": 1679607522323
        }
      ]
    },
    "kernelspec": {
      "display_name": "Python 3",
      "name": "python3"
    },
    "language_info": {
      "name": "python"
    }
  },
  "nbformat": 4,
  "nbformat_minor": 0
}
