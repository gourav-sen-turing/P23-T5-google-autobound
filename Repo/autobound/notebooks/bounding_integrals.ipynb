{
  "cells": [
    {
      "cell_type": "markdown",
      "metadata": {
        "id": "trvr9v_onSNy"
      },
      "source": [
        "# Bounding integrals with AutoBound\n",
        "\n",
        "This notebook shows how AutoBound can be used to compute bounds on the integral of a one-dimensional function.\n",
        "\n",
        "[![Open In Colab](https://colab.research.google.com/assets/colab-badge.svg)](https://colab.research.google.com/github/google/autobound/blob/main/autobound/notebooks/bounding_integrals.ipynb)"
      ]
    },
    {
      "cell_type": "markdown",
      "metadata": {
        "id": "mRm7QT73nYUY"
      },
      "source": [
        "## Install autobound"
      ]
    },
    {
      "cell_type": "code",
      "execution_count": null,
      "metadata": {
        "id": "ABduqCDWnUdr"
      },
      "outputs": [],
      "source": [
        "%pip install autobound"
      ]
    },
    {
      "cell_type": "markdown",
      "metadata": {
        "id": "j2a4ZZkrneL4"
      },
      "source": [
        "## Compute upper and lower bounds on integrals\n",
        "\n",
        "We first define a helper function that returns the integral of a polynomial, given its coefficients."
      ]
    },
    {
      "cell_type": "code",
      "execution_count": 1,
      "metadata": {
        "executionInfo": {
          "elapsed": 54,
          "status": "ok",
          "timestamp": 1679616437415,
          "user": {
            "displayName": "",
            "userId": ""
          },
          "user_tz": 420
        },
        "id": "qKGC6id4ninM"
      },
      "outputs": [],
      "source": [
        "from typing import Sequence\n",
        "\n",
        "\n",
        "def integrate(coefficients: Sequence[float], a: float, b: float) -\u003e float:\n",
        "  \"\"\"Integrate a polynomial, given its coefficients.\"\"\"\n",
        "  def antiderivative(x):\n",
        "    return sum(c*(x**(i+1))/(i+1) for i, c in enumerate(coefficients))\n",
        "  return antiderivative(b) - antiderivative(a)\n",
        "\n",
        "\n",
        "assert integrate([2.], 0., 3.) == 6\n",
        "assert integrate([2., 3.], 0., 3.) == 6 + 4.5*3"
      ]
    },
    {
      "cell_type": "markdown",
      "metadata": {
        "id": "0J0KJ8-znr9n"
      },
      "source": [
        "Using this helper function, we can compute upper and lower bounds on the integral of a function f by first computing polynomial upper and lower bounds on f, then integrating the polynomials."
      ]
    },
    {
      "cell_type": "code",
      "execution_count": 2,
      "metadata": {
        "executionInfo": {
          "elapsed": 2830,
          "status": "ok",
          "timestamp": 1679616444868,
          "user": {
            "displayName": "",
            "userId": ""
          },
          "user_tz": 420
        },
        "id": "lBn_TRvHnrpT"
      },
      "outputs": [],
      "source": [
        "import autobound.jax as ab\n",
        "import numpy as np\n",
        "import jax.numpy as jnp\n",
        "\n",
        "\n",
        "def integral_bound_v0(f, a, b, degree):\n",
        "  if degree % 2 != 0:\n",
        "    # Assume even degree for simplicity.  If the degree is odd, the upper\n",
        "    # and lower bounds would be piecewise-polynomial with separate pieces\n",
        "    # for the interals [a, x0] and [x0, b].\n",
        "    raise NotImplementedError(degree)\n",
        "  x0 = (a+b)/2\n",
        "  bounds = ab.taylor_bounds(f, degree)(x0, (a, b))\n",
        "  lower_bound_coefficients = [float(c[0]) if isinstance(c, tuple) else float(c)\n",
        "                              for c in bounds.coefficients]\n",
        "  upper_bound_coefficients = [float(c[1]) if isinstance(c, tuple) else float(c)\n",
        "                              for c in bounds.coefficients]\n",
        "  return (integrate(lower_bound_coefficients, a-x0, b-x0),\n",
        "          integrate(upper_bound_coefficients, a-x0, b-x0))\n",
        "\n",
        "\n",
        "# If the function is quadratic and we set degree==2 (or higher), the lower and\n",
        "# upper bounds should match the exact value.\n",
        "lower, upper = integral_bound_v0(lambda x: x**2, 0., 1., 2)\n",
        "assert abs(lower - 1/3) \u003c 1e-12\n",
        "assert abs(upper - 1/3) \u003c 1e-12"
      ]
    },
    {
      "cell_type": "markdown",
      "metadata": {
        "id": "NBY1wUjXnzCM"
      },
      "source": [
        "As we increase the degree of the polynomial upper and lower bounds, the upper bounds on the integral become tighter.  Let's plot the upper and lower bounds as a function of the polynomial degree."
      ]
    },
    {
      "cell_type": "code",
      "execution_count": 3,
      "metadata": {
        "colab": {
          "height": 383
        },
        "executionInfo": {
          "elapsed": 870,
          "status": "ok",
          "timestamp": 1679616449472,
          "user": {
            "displayName": "",
            "userId": ""
          },
          "user_tz": 420
        },
        "id": "U8_DD3YSoBfN",
        "outputId": "2429e658-97aa-424f-d00c-4bf66282df83"
      },
      "outputs": [
        {
          "name": "stdout",
          "output_type": "stream",
          "text": [
            "degree = 0 (lower bound, upper bound) = (-23.5, 30.128305435180664)\n",
            "degree = 2 (lower bound, upper bound) = (0.009621938069661384, 2.829857190450033)\n",
            "degree = 4 (lower bound, upper bound) = (1.1261181195576986, 1.3056891282399494)\n",
            "degree = 6 (lower bound, upper bound) = (1.206216348778634, 1.2129354079564414)\n",
            "degree = 8 (lower bound, upper bound) = (1.20935602952534, 1.2095172998776276)\n",
            "\n"
          ]
        },
        {
          "data": {
            "image/png": "[encoded data removed]",
            "text/plain": [
              "\u003cFigure size 600x400 with 1 Axes\u003e"
            ]
          },
          "metadata": {},
          "output_type": "display_data"
        }
      ],
      "source": [
        "from matplotlib import pyplot\n",
        "\n",
        "# Define a function f, to be integrated over [a, b].\n",
        "f = lambda x: 1.5*jnp.exp(3*x) - 25*x**2\n",
        "a = 0.\n",
        "b = 1.\n",
        "\n",
        "# Compute lower and upper bounds using polynomials of various degrees.\n",
        "degree_to_bounds = {}\n",
        "for i in range(5):\n",
        "  degree = 2*i\n",
        "  degree_to_bounds[degree] = integral_bound_v0(f, a, b, degree)\n",
        "  print('degree =', degree, '(lower bound, upper bound) =',\n",
        "        degree_to_bounds[degree])\n",
        "print()\n",
        "\n",
        "# Plot the bounds as a function of the polynomial degree.\n",
        "degrees = sorted(degree_to_bounds.keys())\n",
        "pyplot.plot(degrees, [degree_to_bounds[d][0] for d in degrees], 'b--',\n",
        "            label=\"Lower bound\", marker='.')\n",
        "pyplot.plot(degrees, [degree_to_bounds[d][1] for d in degrees], 'r--',\n",
        "            label=\"Upper bound\", marker='.')\n",
        "pyplot.xlabel(\"Polynomial degree\")\n",
        "pyplot.legend()\n",
        "pyplot.show()"
      ]
    },
    {
      "cell_type": "markdown",
      "metadata": {
        "id": "s0ylvpCLoLBl"
      },
      "source": [
        "Another way to get tighter bounds is to subdivide the region of integration into a number of cells, compute separate upper and lower bounds for each cell, and sum them up."
      ]
    },
    {
      "cell_type": "code",
      "execution_count": 4,
      "metadata": {
        "executionInfo": {
          "elapsed": 34,
          "status": "ok",
          "timestamp": 1679616452974,
          "user": {
            "displayName": "",
            "userId": ""
          },
          "user_tz": 420
        },
        "id": "4GVGe3PnoM6a"
      },
      "outputs": [],
      "source": [
        "def integral_bound_v1(f, a, b, degree, num_grid_cells):\n",
        "  sum_lower = 0.\n",
        "  sum_upper = 0.\n",
        "  w = (b - a) / num_grid_cells\n",
        "  for i in range(num_grid_cells):\n",
        "    a_i = a + w*i\n",
        "    b_i = a_i + w\n",
        "    lower, upper = integral_bound_v0(f, a_i, b_i, degree)\n",
        "    sum_lower += lower\n",
        "    sum_upper += upper\n",
        "  return sum_lower, sum_upper\n",
        "\n",
        "\n",
        "# As with integral_bound_v0, we should get exact bounds for functions that\n",
        "# are polynomials of degree \u003c= the `degree` parameter.\n",
        "lower, upper = integral_bound_v1(lambda x: x**2, 0., 1., 2, 1)\n",
        "assert abs(lower - 1/3) \u003c 1e-12\n",
        "assert abs(upper - 1/3) \u003c 1e-12"
      ]
    },
    {
      "cell_type": "markdown",
      "metadata": {
        "id": "HNyp56exoQto"
      },
      "source": [
        "Let's look at how the lower and upper bounds change as we vary the number of grid cells."
      ]
    },
    {
      "cell_type": "code",
      "execution_count": 5,
      "metadata": {
        "colab": {
          "height": 383
        },
        "executionInfo": {
          "elapsed": 1049,
          "status": "ok",
          "timestamp": 1679616456991,
          "user": {
            "displayName": "",
            "userId": ""
          },
          "user_tz": 420
        },
        "id": "m_gu-XXOoYaV",
        "outputId": "0a62a2bd-ba5c-4c75-82f6-9a00e1b3937f"
      },
      "outputs": [
        {
          "name": "stdout",
          "output_type": "stream",
          "text": [
            "#(grid cells) = 1 (lower bound, upper bound) = (0.009621938069661384, 2.829857190450033)\n",
            "#(grid cells) = 2 (lower bound, upper bound) = (1.0153448383013406, 1.4349525968233747)\n",
            "#(grid cells) = 4 (lower bound, upper bound) = (1.1829608430465064, 1.2379716920355956)\n",
            "#(grid cells) = 8 (lower bound, upper bound) = (1.2060198349257312, 1.212980562200149)\n",
            "#(grid cells) = 16 (lower bound, upper bound) = (1.2090029227741375, 1.2098756911000237)\n",
            "\n"
          ]
        },
        {
          "data": {
            "image/png": "[encoded data removed]",
            "text/plain": [
              "\u003cFigure size 600x400 with 1 Axes\u003e"
            ]
          },
          "metadata": {},
          "output_type": "display_data"
        }
      ],
      "source": [
        "# Define a function f, to be integrated over [a, b].\n",
        "f = lambda x: 1.5*jnp.exp(3*x) - 25*x**2\n",
        "a = 0.\n",
        "b = 1.\n",
        "\n",
        "num_cells_to_bounds = {}\n",
        "degree = 2\n",
        "for i in range(5):\n",
        "  num_cells = 2**i\n",
        "  num_cells_to_bounds[num_cells] = integral_bound_v1(f, a, b, degree, num_cells)\n",
        "  print('#(grid cells) =', num_cells, '(lower bound, upper bound) =',\n",
        "        num_cells_to_bounds[num_cells])\n",
        "print()\n",
        "\n",
        "\n",
        "# Plot the bounds as a function of the number of grid cells.\n",
        "ns = sorted(num_cells_to_bounds.keys())\n",
        "pyplot.plot(ns, [num_cells_to_bounds[n][0] for n in ns], 'b--',\n",
        "            label=\"Lower bound\", marker='.')\n",
        "pyplot.plot(ns, [num_cells_to_bounds[n][1] for n in ns], 'r--',\n",
        "            label=\"Upper bound\", marker='.')\n",
        "pyplot.xlabel(\"Number of grid cells\")\n",
        "pyplot.legend()\n",
        "pyplot.show()"
      ]
    },
    {
      "cell_type": "markdown",
      "metadata": {
        "id": "_31bw6s2oZkS"
      },
      "source": [
        "More sophisticated approaches are possible!  In particular, instead of using a uniform grid, we could adaptively refine the grid by subdividing cells where the gap between the upper and lower bounds is largest."
      ]
    }
  ],
  "metadata": {
    "colab": {
      "last_runtime": {
        "build_target": "",
        "kind": "local"
      },
      "name": "bounding_integrals.ipynb",
      "provenance": [
      ]
    },
    "kernelspec": {
      "display_name": "Python 3",
      "name": "python3"
    },
    "language_info": {
      "name": "python"
    }
  },
  "nbformat": 4,
  "nbformat_minor": 0
}
